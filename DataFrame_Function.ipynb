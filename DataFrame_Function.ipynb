{
 "cells": [
  {
   "cell_type": "code",
   "execution_count": 1,
   "metadata": {},
   "outputs": [
    {
     "ename": "ModuleNotFoundError",
     "evalue": "No module named 'config2'",
     "output_type": "error",
     "traceback": [
      "\u001b[0;31m---------------------------------------------------------------------------\u001b[0m",
      "\u001b[0;31mModuleNotFoundError\u001b[0m                       Traceback (most recent call last)",
      "\u001b[0;32m<ipython-input-1-66acbbd12942>\u001b[0m in \u001b[0;36m<module>\u001b[0;34m\u001b[0m\n\u001b[1;32m      5\u001b[0m \u001b[0;32mfrom\u001b[0m \u001b[0mconfig1\u001b[0m \u001b[0;32mimport\u001b[0m \u001b[0mapi_key\u001b[0m\u001b[0;34m\u001b[0m\u001b[0;34m\u001b[0m\u001b[0m\n\u001b[1;32m      6\u001b[0m \u001b[0;32mfrom\u001b[0m \u001b[0mpprint\u001b[0m \u001b[0;32mimport\u001b[0m \u001b[0mpprint\u001b[0m\u001b[0;34m\u001b[0m\u001b[0;34m\u001b[0m\u001b[0m\n\u001b[0;32m----> 7\u001b[0;31m \u001b[0;32mfrom\u001b[0m \u001b[0mpandas_function\u001b[0m \u001b[0;32mimport\u001b[0m \u001b[0mmake_df\u001b[0m\u001b[0;34m\u001b[0m\u001b[0;34m\u001b[0m\u001b[0m\n\u001b[0m",
      "\u001b[0;32m~/Documents/project-one/pandas_function.py\u001b[0m in \u001b[0;36m<module>\u001b[0;34m\u001b[0m\n\u001b[1;32m      3\u001b[0m \u001b[0;32mimport\u001b[0m \u001b[0mrequests\u001b[0m\u001b[0;34m\u001b[0m\u001b[0;34m\u001b[0m\u001b[0m\n\u001b[1;32m      4\u001b[0m \u001b[0;32mimport\u001b[0m \u001b[0mpandas\u001b[0m \u001b[0;32mas\u001b[0m \u001b[0mpd\u001b[0m\u001b[0;34m\u001b[0m\u001b[0;34m\u001b[0m\u001b[0m\n\u001b[0;32m----> 5\u001b[0;31m \u001b[0;32mfrom\u001b[0m \u001b[0mconfig2\u001b[0m \u001b[0;32mimport\u001b[0m \u001b[0mapi_key\u001b[0m\u001b[0;34m\u001b[0m\u001b[0;34m\u001b[0m\u001b[0m\n\u001b[0m\u001b[1;32m      6\u001b[0m \u001b[0;32mfrom\u001b[0m \u001b[0mpprint\u001b[0m \u001b[0;32mimport\u001b[0m \u001b[0mpprint\u001b[0m\u001b[0;34m\u001b[0m\u001b[0;34m\u001b[0m\u001b[0m\n\u001b[1;32m      7\u001b[0m \u001b[0;34m\u001b[0m\u001b[0m\n",
      "\u001b[0;31mModuleNotFoundError\u001b[0m: No module named 'config2'"
     ]
    }
   ],
   "source": [
    "import csv\n",
    "import matplotlib.pyplot as plt\n",
    "import requests\n",
    "import pandas as pd\n",
    "from config1 import api_key\n",
    "from pprint import pprint\n",
    "from pandas_function import make_df"
   ]
  },
  {
   "cell_type": "code",
   "execution_count": null,
   "metadata": {},
   "outputs": [],
   "source": [
    "\n",
    "city_list = [['Beijing', 'Beijing', 'China'], ['Asheville', 'North Carolina', 'USA'], ['Austin', 'Texas', 'USA']]\n",
    "\n",
    "make_df(city_list)"
   ]
  },
  {
   "cell_type": "code",
   "execution_count": null,
   "metadata": {},
   "outputs": [],
   "source": []
  },
  {
   "cell_type": "code",
   "execution_count": 5,
   "metadata": {},
   "outputs": [
    {
     "data": {
      "text/html": [
       "<div>\n",
       "<style scoped>\n",
       "    .dataframe tbody tr th:only-of-type {\n",
       "        vertical-align: middle;\n",
       "    }\n",
       "\n",
       "    .dataframe tbody tr th {\n",
       "        vertical-align: top;\n",
       "    }\n",
       "\n",
       "    .dataframe thead th {\n",
       "        text-align: right;\n",
       "    }\n",
       "</style>\n",
       "<table border=\"1\" class=\"dataframe\">\n",
       "  <thead>\n",
       "    <tr style=\"text-align: right;\">\n",
       "      <th></th>\n",
       "      <th>City</th>\n",
       "      <th>State</th>\n",
       "      <th>Country</th>\n",
       "      <th>Air Quality</th>\n",
       "      <th>Temperature</th>\n",
       "      <th>Humidity</th>\n",
       "      <th>Pressure</th>\n",
       "      <th>Wind Speed</th>\n",
       "      <th>Time</th>\n",
       "    </tr>\n",
       "  </thead>\n",
       "  <tbody>\n",
       "    <tr>\n",
       "      <td>0</td>\n",
       "      <td>Beijing</td>\n",
       "      <td>N/A</td>\n",
       "      <td>China</td>\n",
       "      <td>137</td>\n",
       "      <td>26</td>\n",
       "      <td>57</td>\n",
       "      <td>1013</td>\n",
       "      <td>1.0</td>\n",
       "      <td>2019-10-03T02:00:00.000Z</td>\n",
       "    </tr>\n",
       "    <tr>\n",
       "      <td>1</td>\n",
       "      <td>Asheville</td>\n",
       "      <td>North Carolina</td>\n",
       "      <td>USA</td>\n",
       "      <td>61</td>\n",
       "      <td>20</td>\n",
       "      <td>88</td>\n",
       "      <td>1022</td>\n",
       "      <td>2.6</td>\n",
       "      <td>2019-10-03T02:00:00.000Z</td>\n",
       "    </tr>\n",
       "    <tr>\n",
       "      <td>2</td>\n",
       "      <td>Austin</td>\n",
       "      <td>Texas</td>\n",
       "      <td>USA</td>\n",
       "      <td>48</td>\n",
       "      <td>28</td>\n",
       "      <td>54</td>\n",
       "      <td>1014</td>\n",
       "      <td>3.6</td>\n",
       "      <td>2019-10-03T02:00:00.000Z</td>\n",
       "    </tr>\n",
       "  </tbody>\n",
       "</table>\n",
       "</div>"
      ],
      "text/plain": [
       "        City           State Country  Air Quality  Temperature  Humidity  \\\n",
       "0    Beijing             N/A   China          137           26        57   \n",
       "1  Asheville  North Carolina     USA           61           20        88   \n",
       "2     Austin           Texas     USA           48           28        54   \n",
       "\n",
       "   Pressure  Wind Speed                      Time  \n",
       "0      1013         1.0  2019-10-03T02:00:00.000Z  \n",
       "1      1022         2.6  2019-10-03T02:00:00.000Z  \n",
       "2      1014         3.6  2019-10-03T02:00:00.000Z  "
      ]
     },
     "execution_count": 5,
     "metadata": {},
     "output_type": "execute_result"
    }
   ],
   "source": [
    "def make_df(city_list):\n",
    "    \n",
    "    #We will be making a list of dictionaries that we will eventually turn into our dataframe\n",
    "    dict_list = []\n",
    "    \n",
    "    #Loops through every city in the provided list. List format must be: [[city1, state1, country1], \n",
    "    #[city2, state2, country2]]. If it's a country without a state, just put the city name as the state in the list.\n",
    "    #(Although some international cities have states.)\n",
    "    for c in range(0, len(city_list)):\n",
    "        \n",
    "        #Locates the necessary info from the list.\n",
    "        citi = city_list[c][0]\n",
    "        state = city_list[c][1]\n",
    "        country = city_list[c][2]\n",
    "        \n",
    "        \n",
    "        #Builds our url.\n",
    "        url = f\"https://api.airvisual.com/v2/city?city={citi}&state={state}&country={country}&key=\"\n",
    "        \n",
    "        #Adds the api_key\n",
    "        query_url = url + api_key\n",
    "\n",
    "        #Pulls our response\n",
    "        response = requests.get(query_url).json()\n",
    "        \n",
    "        #Only puts the state in the table if it's from the U.S.\n",
    "        if country == 'USA':\n",
    "            state = response['data']['state']\n",
    "        else:\n",
    "            state = 'N/A'\n",
    "        \n",
    "        #Pulls the necessary information (feel free to add or paramets)\n",
    "        city = response['data']['city']\n",
    "        country = response['data']['country']\n",
    "        temperature = response['data']['current']['weather']['tp']\n",
    "        air_qual = response['data']['current']['pollution']['aqius']\n",
    "        humidity = response['data']['current']['weather']['hu']\n",
    "        pressure = response['data']['current']['weather']['pr']\n",
    "        wind_speed = response['data']['current']['weather']['ws']\n",
    "        time = response['data']['current']['weather']['ts']\n",
    "        \n",
    "        #Takes all that information and puts it into a dictionary whcih we will then append to our dict_list.\n",
    "        data_dict = {'City' : city, 'State' : state, 'Country' : country, 'Air Quality' : air_qual, 'Temperature' : temperature,\n",
    "             'Humidity': humidity, 'Pressure' : pressure, 'Wind Speed' : wind_speed, 'Time' : time}\n",
    "        dict_list.append(data_dict)\n",
    "    \n",
    "    #Turns our dict_list into a dataframe and returns it.\n",
    "    dataframe = pd.DataFrame(dict_list)\n",
    "    return dataframe\n",
    "\n",
    "#This is where our opportunity to loop into our cities.\n",
    "#Each city in the list must be formatted as [[city, state, country]]\n"
   ]
  },
  {
   "cell_type": "code",
   "execution_count": null,
   "metadata": {},
   "outputs": [],
   "source": []
  },
  {
   "cell_type": "code",
   "execution_count": null,
   "metadata": {},
   "outputs": [],
   "source": []
  }
 ],
 "metadata": {
  "kernelspec": {
   "display_name": "Python [conda env:PythonData]",
   "language": "python",
   "name": "conda-env-PythonData-py"
  },
  "language_info": {
   "codemirror_mode": {
    "name": "ipython",
    "version": 3
   },
   "file_extension": ".py",
   "mimetype": "text/x-python",
   "name": "python",
   "nbconvert_exporter": "python",
   "pygments_lexer": "ipython3",
   "version": "3.7.4"
  }
 },
 "nbformat": 4,
 "nbformat_minor": 2
}
