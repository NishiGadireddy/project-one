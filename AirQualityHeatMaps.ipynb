{
 "cells": [
  {
   "cell_type": "markdown",
   "metadata": {},
   "source": [
    "# AirQualityPy"
   ]
  },
  {
   "cell_type": "code",
   "execution_count": 1,
   "metadata": {},
   "outputs": [
    {
     "ename": "SyntaxError",
     "evalue": "invalid syntax (<ipython-input-1-71bb7c2e7e43>, line 6)",
     "output_type": "error",
     "traceback": [
      "\u001b[1;36m  File \u001b[1;32m\"<ipython-input-1-71bb7c2e7e43>\"\u001b[1;36m, line \u001b[1;32m6\u001b[0m\n\u001b[1;33m    import\u001b[0m\n\u001b[1;37m           ^\u001b[0m\n\u001b[1;31mSyntaxError\u001b[0m\u001b[1;31m:\u001b[0m invalid syntax\n"
     ]
    }
   ],
   "source": [
    "# Import dependencies\n",
    "import pandas as pd\n",
    "import matplotlib.pyplot as plt\n",
    "import requests\n",
    "from pprint import pprint\n",
    "import \n",
    "import numpy as np\n",
    "import json\n",
    "import time\n",
    "import gmaps\n",
    "import datetime\n",
    "import matplotlib.dates as mdate\n",
    "from heat import heat_key\n",
    "\n"
   ]
  },
  {
   "cell_type": "markdown",
   "metadata": {},
   "source": [
    "### Air Quality Status for North Carolina"
   ]
  },
  {
   "cell_type": "code",
   "execution_count": 2,
   "metadata": {},
   "outputs": [],
   "source": [
    "air = \"Output/nc_air_quality.csv\""
   ]
  },
  {
   "cell_type": "code",
   "execution_count": 3,
   "metadata": {},
   "outputs": [
    {
     "ename": "NameError",
     "evalue": "name 'pd' is not defined",
     "output_type": "error",
     "traceback": [
      "\u001b[1;31m---------------------------------------------------------------------------\u001b[0m",
      "\u001b[1;31mNameError\u001b[0m                                 Traceback (most recent call last)",
      "\u001b[1;32m<ipython-input-3-c0c21784d68e>\u001b[0m in \u001b[0;36m<module>\u001b[1;34m\u001b[0m\n\u001b[1;32m----> 1\u001b[1;33m \u001b[0mair_df\u001b[0m \u001b[1;33m=\u001b[0m \u001b[0mpd\u001b[0m\u001b[1;33m.\u001b[0m\u001b[0mread_csv\u001b[0m\u001b[1;33m(\u001b[0m\u001b[0mfile_one\u001b[0m\u001b[1;33m,\u001b[0m \u001b[0mencoding\u001b[0m\u001b[1;33m=\u001b[0m\u001b[1;34m\"ISO-8859-1\"\u001b[0m\u001b[1;33m)\u001b[0m\u001b[1;33m\u001b[0m\u001b[1;33m\u001b[0m\u001b[0m\n\u001b[0m",
      "\u001b[1;31mNameError\u001b[0m: name 'pd' is not defined"
     ]
    }
   ],
   "source": [
    "air_df = pd.read_csv(file_one, encoding=\"ISO-8859-1\")"
   ]
  },
  {
   "cell_type": "code",
   "execution_count": 31,
   "metadata": {},
   "outputs": [
    {
     "data": {
      "text/html": [
       "<div>\n",
       "<style scoped>\n",
       "    .dataframe tbody tr th:only-of-type {\n",
       "        vertical-align: middle;\n",
       "    }\n",
       "\n",
       "    .dataframe tbody tr th {\n",
       "        vertical-align: top;\n",
       "    }\n",
       "\n",
       "    .dataframe thead th {\n",
       "        text-align: right;\n",
       "    }\n",
       "</style>\n",
       "<table border=\"1\" class=\"dataframe\">\n",
       "  <thead>\n",
       "    <tr style=\"text-align: right;\">\n",
       "      <th></th>\n",
       "      <th>City</th>\n",
       "      <th>State</th>\n",
       "      <th>Country</th>\n",
       "      <th>Latitude</th>\n",
       "      <th>Longitude</th>\n",
       "      <th>Air Quality</th>\n",
       "      <th>Main Pollutant</th>\n",
       "      <th>Humidity</th>\n",
       "      <th>Pressure</th>\n",
       "      <th>Temperature</th>\n",
       "      <th>Wind Speed</th>\n",
       "      <th>Date</th>\n",
       "    </tr>\n",
       "  </thead>\n",
       "  <tbody>\n",
       "    <tr>\n",
       "      <td>0</td>\n",
       "      <td>Albemarle</td>\n",
       "      <td>North Carolina</td>\n",
       "      <td>USA</td>\n",
       "      <td>-80.197647</td>\n",
       "      <td>35.367097</td>\n",
       "      <td>33</td>\n",
       "      <td>p2</td>\n",
       "      <td>78</td>\n",
       "      <td>1024</td>\n",
       "      <td>23</td>\n",
       "      <td>2.50</td>\n",
       "      <td>2019-10-07</td>\n",
       "    </tr>\n",
       "    <tr>\n",
       "      <td>1</td>\n",
       "      <td>Angier</td>\n",
       "      <td>North Carolina</td>\n",
       "      <td>USA</td>\n",
       "      <td>-78.727767</td>\n",
       "      <td>35.555932</td>\n",
       "      <td>17</td>\n",
       "      <td>p2</td>\n",
       "      <td>69</td>\n",
       "      <td>1023</td>\n",
       "      <td>22</td>\n",
       "      <td>2.96</td>\n",
       "      <td>2019-10-07</td>\n",
       "    </tr>\n",
       "    <tr>\n",
       "      <td>2</td>\n",
       "      <td>Asheville</td>\n",
       "      <td>North Carolina</td>\n",
       "      <td>USA</td>\n",
       "      <td>-82.583300</td>\n",
       "      <td>35.607500</td>\n",
       "      <td>4</td>\n",
       "      <td>p2</td>\n",
       "      <td>88</td>\n",
       "      <td>1025</td>\n",
       "      <td>17</td>\n",
       "      <td>2.60</td>\n",
       "      <td>2019-10-06</td>\n",
       "    </tr>\n",
       "    <tr>\n",
       "      <td>3</td>\n",
       "      <td>Beaufort</td>\n",
       "      <td>North Carolina</td>\n",
       "      <td>USA</td>\n",
       "      <td>-76.663820</td>\n",
       "      <td>34.718220</td>\n",
       "      <td>16</td>\n",
       "      <td>o3</td>\n",
       "      <td>69</td>\n",
       "      <td>1024</td>\n",
       "      <td>22</td>\n",
       "      <td>2.10</td>\n",
       "      <td>2019-10-06</td>\n",
       "    </tr>\n",
       "    <tr>\n",
       "      <td>4</td>\n",
       "      <td>Belville</td>\n",
       "      <td>North Carolina</td>\n",
       "      <td>USA</td>\n",
       "      <td>-77.945588</td>\n",
       "      <td>34.206962</td>\n",
       "      <td>3</td>\n",
       "      <td>p2</td>\n",
       "      <td>60</td>\n",
       "      <td>1023</td>\n",
       "      <td>23</td>\n",
       "      <td>2.60</td>\n",
       "      <td>2019-10-07</td>\n",
       "    </tr>\n",
       "  </tbody>\n",
       "</table>\n",
       "</div>"
      ],
      "text/plain": [
       "        City           State Country   Latitude  Longitude  Air Quality  \\\n",
       "0  Albemarle  North Carolina     USA -80.197647  35.367097           33   \n",
       "1     Angier  North Carolina     USA -78.727767  35.555932           17   \n",
       "2  Asheville  North Carolina     USA -82.583300  35.607500            4   \n",
       "3   Beaufort  North Carolina     USA -76.663820  34.718220           16   \n",
       "4   Belville  North Carolina     USA -77.945588  34.206962            3   \n",
       "\n",
       "  Main Pollutant  Humidity  Pressure  Temperature  Wind Speed        Date  \n",
       "0             p2        78      1024           23        2.50  2019-10-07  \n",
       "1             p2        69      1023           22        2.96  2019-10-07  \n",
       "2             p2        88      1025           17        2.60  2019-10-06  \n",
       "3             o3        69      1024           22        2.10  2019-10-06  \n",
       "4             p2        60      1023           23        2.60  2019-10-07  "
      ]
     },
     "execution_count": 31,
     "metadata": {},
     "output_type": "execute_result"
    }
   ],
   "source": [
    "air_df.head()"
   ]
  },
  {
   "cell_type": "markdown",
   "metadata": {},
   "source": [
    "# Heat Maps for AQI "
   ]
  },
  {
   "cell_type": "code",
   "execution_count": 32,
   "metadata": {},
   "outputs": [],
   "source": [
    "gmaps.configure(heat_key)"
   ]
  },
  {
   "cell_type": "code",
   "execution_count": 35,
   "metadata": {},
   "outputs": [],
   "source": [
    "# Store 'Lat' and 'Lng' into  locations \n",
    "locations = air_df[[\"Longitude\",\"Latitude\" ]].astype(float)\n",
    "\n",
    "# Convert AQI to float and store\n",
    "aqi_lvl = air_df[\"Air Quality\"].astype(float)"
   ]
  },
  {
   "cell_type": "code",
   "execution_count": 45,
   "metadata": {},
   "outputs": [
    {
     "data": {
      "application/vnd.jupyter.widget-view+json": {
       "model_id": "8fcea64ea5494aad8869400ed7afe714",
       "version_major": 2,
       "version_minor": 0
      },
      "text/plain": [
       "Figure(layout=FigureLayout(height='420px'))"
      ]
     },
     "metadata": {},
     "output_type": "display_data"
    }
   ],
   "source": [
    "# Create a AQI Heatmap layer\n",
    "fig = gmaps.figure()\n",
    "\n",
    "heat_layer = gmaps.heatmap_layer(locations, weights=aqi_lvl, \n",
    "                                 dissipating=False, max_intensity=100,\n",
    "                                 point_radius = .1)\n",
    "\n",
    "fig.add_layer(heat_layer)\n",
    "\n",
    "fig"
   ]
  },
  {
   "cell_type": "markdown",
   "metadata": {},
   "source": [
    "### Air Quality, Pressure Relationship"
   ]
  },
  {
   "cell_type": "code",
   "execution_count": 37,
   "metadata": {},
   "outputs": [],
   "source": [
    "# Convert pressure to float and store\n",
    "pr_lvl = air_df[\"Pressure\"].astype(float)"
   ]
  },
  {
   "cell_type": "code",
   "execution_count": 55,
   "metadata": {},
   "outputs": [
    {
     "data": {
      "application/vnd.jupyter.widget-view+json": {
       "model_id": "8ddca366833b46bd9b575114fc296b6b",
       "version_major": 2,
       "version_minor": 0
      },
      "text/plain": [
       "Figure(layout=FigureLayout(height='420px'))"
      ]
     },
     "metadata": {},
     "output_type": "display_data"
    }
   ],
   "source": [
    "# Create a Pressure Heatmap layer\n",
    "fig = gmaps.figure()\n",
    "\n",
    "heat_layer = gmaps.heatmap_layer(locations, weights=pr_lvl, \n",
    "                                 dissipating=False, max_intensity=600,\n",
    "                                 point_radius = .07)\n",
    "\n",
    "fig.add_layer(heat_layer)\n",
    "\n",
    "fig"
   ]
  },
  {
   "cell_type": "markdown",
   "metadata": {},
   "source": [
    "### Air Quality, Humidity Relationship"
   ]
  },
  {
   "cell_type": "code",
   "execution_count": 39,
   "metadata": {},
   "outputs": [],
   "source": [
    "# Convert Humidity to float and store\n",
    "hu_lvl = air_df[\"Humidity\"].astype(float)"
   ]
  },
  {
   "cell_type": "code",
   "execution_count": 42,
   "metadata": {},
   "outputs": [
    {
     "data": {
      "application/vnd.jupyter.widget-view+json": {
       "model_id": "265216e7b3af47a0aafaf21c50195fd0",
       "version_major": 2,
       "version_minor": 0
      },
      "text/plain": [
       "Figure(layout=FigureLayout(height='420px'))"
      ]
     },
     "metadata": {},
     "output_type": "display_data"
    }
   ],
   "source": [
    "# Create a Humidity Heatmap layer\n",
    "fig = gmaps.figure()\n",
    "\n",
    "heat_layer = gmaps.heatmap_layer(locations, weights=hu_lvl, \n",
    "                                 dissipating=False, max_intensity=100,\n",
    "                                 point_radius = .1)\n",
    "\n",
    "fig.add_layer(heat_layer)\n",
    "\n",
    "fig"
   ]
  },
  {
   "cell_type": "markdown",
   "metadata": {},
   "source": [
    "The air quality in the NC cities remains in the good range (0-50) and is only seen in the moderate range in the major cities Raleigh and Charlotte. When looking at the pressure heat map there seems to be no relationship between humidity and location. Lastly, there also seems to be no distinct relationship between humidity and location across NC."
   ]
  }
 ],
 "metadata": {
  "kernelspec": {
   "display_name": "Python 3",
   "language": "python",
   "name": "python3"
  },
  "language_info": {
   "codemirror_mode": {
    "name": "ipython",
    "version": 3
   },
   "file_extension": ".py",
   "mimetype": "text/x-python",
   "name": "python",
   "nbconvert_exporter": "python",
   "pygments_lexer": "ipython3",
   "version": "3.7.3"
  }
 },
 "nbformat": 4,
 "nbformat_minor": 2
}
