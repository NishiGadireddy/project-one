{
 "cells": [
  {
   "cell_type": "code",
   "execution_count": 42,
   "metadata": {},
   "outputs": [],
   "source": [
    "# import dependencies\n",
    "import pandas as pd\n",
    "import matplotlib.pyplot as plt\n",
    "import requests\n",
    "from pprint import pprint\n",
    "from census import Census\n",
    "import numpy as np\n",
    "import json\n",
    "from config1 import api_key"
   ]
  },
  {
   "cell_type": "code",
   "execution_count": 43,
   "metadata": {},
   "outputs": [],
   "source": [
    "url = \"https://api.airvisual.com/v2/city?city=\"\n",
    "city=\"Raleigh\"\n",
    "# Build query URL\n",
    "query_url = url + city +\"&state=North Carolina&country=USA&\" + \"&key=\" + api_key"
   ]
  },
  {
   "cell_type": "code",
   "execution_count": 44,
   "metadata": {},
   "outputs": [
    {
     "name": "stdout",
     "output_type": "stream",
     "text": [
      "{'data': {'city': 'Raleigh',\n",
      "          'country': 'USA',\n",
      "          'current': {'pollution': {'aqicn': 41,\n",
      "                                    'aqius': 85,\n",
      "                                    'maincn': 'p2',\n",
      "                                    'mainus': 'p2',\n",
      "                                    'ts': '2019-10-03T00:00:00.000Z'},\n",
      "                      'weather': {'hu': 94,\n",
      "                                  'ic': '01n',\n",
      "                                  'pr': 1013,\n",
      "                                  'tp': 27,\n",
      "                                  'ts': '2019-10-03T00:00:00.000Z',\n",
      "                                  'wd': 280,\n",
      "                                  'ws': 1.87}},\n",
      "          'location': {'coordinates': [-78.574203, 35.856098], 'type': 'Point'},\n",
      "          'state': 'North Carolina'},\n",
      " 'status': 'success'}\n"
     ]
    }
   ],
   "source": [
    "response = requests.get(query_url).json()\n",
    "pprint(response)"
   ]
  },
  {
   "cell_type": "code",
   "execution_count": 64,
   "metadata": {},
   "outputs": [],
   "source": [
    "city_name = []\n",
    "country_name = []\n",
    "air_quality = []\n",
    "humidity = []\n",
    "pressure = []\n",
    "temperature = []\n",
    "wind_speed = []\n",
    "\n",
    "# Select the variables\n",
    "city_name.append(response[\"data\"][\"city\"])\n",
    "country_name.append(response[\"data\"][\"country\"])\n",
    "air_quality.append(response[\"data\"][\"current\"][\"pollution\"][\"aqius\"])\n",
    "humidity.append(response[\"data\"][\"current\"][\"weather\"][\"hu\"])\n",
    "pressure.append(response[\"data\"][\"current\"][\"weather\"][\"pr\"])\n",
    "temperature.append(response[\"data\"][\"current\"][\"weather\"][\"tp\"])\n",
    "wind_speed.append(response[\"data\"][\"current\"][\"weather\"][\"ws\"])"
   ]
  },
  {
   "cell_type": "code",
   "execution_count": 67,
   "metadata": {},
   "outputs": [
    {
     "data": {
      "text/html": [
       "<div>\n",
       "<style scoped>\n",
       "    .dataframe tbody tr th:only-of-type {\n",
       "        vertical-align: middle;\n",
       "    }\n",
       "\n",
       "    .dataframe tbody tr th {\n",
       "        vertical-align: top;\n",
       "    }\n",
       "\n",
       "    .dataframe thead th {\n",
       "        text-align: right;\n",
       "    }\n",
       "</style>\n",
       "<table border=\"1\" class=\"dataframe\">\n",
       "  <thead>\n",
       "    <tr style=\"text-align: right;\">\n",
       "      <th></th>\n",
       "      <th>City</th>\n",
       "      <th>Country</th>\n",
       "      <th>Air Quality</th>\n",
       "      <th>Humidity</th>\n",
       "      <th>Pressure</th>\n",
       "      <th>Temperature</th>\n",
       "      <th>Wind Speed</th>\n",
       "    </tr>\n",
       "  </thead>\n",
       "  <tbody>\n",
       "    <tr>\n",
       "      <td>0</td>\n",
       "      <td>Raleigh</td>\n",
       "      <td>USA</td>\n",
       "      <td>85</td>\n",
       "      <td>94</td>\n",
       "      <td>1013</td>\n",
       "      <td>27</td>\n",
       "      <td>1.87</td>\n",
       "    </tr>\n",
       "  </tbody>\n",
       "</table>\n",
       "</div>"
      ],
      "text/plain": [
       "      City Country  Air Quality  Humidity  Pressure  Temperature  Wind Speed\n",
       "0  Raleigh     USA           85        94      1013           27        1.87"
      ]
     },
     "execution_count": 67,
     "metadata": {},
     "output_type": "execute_result"
    }
   ],
   "source": [
    "weather_dict = {\"City\": city_name,\n",
    "             \"Country\": country_name,\n",
    "             \"Air Quality\": air_quality,\n",
    "             \"Humidity\": humidity,\n",
    "             \"Pressure\": pressure,\n",
    "             \"Temperature\": temperature,\n",
    "             \"Wind Speed\": wind_speed}\n",
    "\n",
    "weather_df = pd.DataFrame(weather_dict)\n",
    "weather_df"
   ]
  },
  {
   "cell_type": "code",
   "execution_count": null,
   "metadata": {},
   "outputs": [],
   "source": []
  }
 ],
 "metadata": {
  "kernelspec": {
   "display_name": "Python [conda env:PythonData]",
   "language": "python",
   "name": "conda-env-PythonData-py"
  },
  "language_info": {
   "codemirror_mode": {
    "name": "ipython",
    "version": 3
   },
   "file_extension": ".py",
   "mimetype": "text/x-python",
   "name": "python",
   "nbconvert_exporter": "python",
   "pygments_lexer": "ipython3",
   "version": "3.7.4"
  }
 },
 "nbformat": 4,
 "nbformat_minor": 2
}
