{
 "cells": [
  {
   "cell_type": "code",
   "execution_count": 5,
   "metadata": {},
   "outputs": [],
   "source": [
    "import json\n",
    "import pandas as pd\n",
    "import requests\n"
   ]
  },
  {
   "cell_type": "code",
   "execution_count": 6,
   "metadata": {},
   "outputs": [],
   "source": [
    ",
    "url = \"https://api.airvisual.com/v2/cities?state=North Carolina&country=USA&key=\"\n",
    "city=\"Raleigh\"\n",
    "# Build query URL\n",
    "query_url = url +api_key"
   ]
  },
  {
   "cell_type": "code",
   "execution_count": 7,
   "metadata": {},
   "outputs": [
    {
     "name": "stdout",
     "output_type": "stream",
     "text": [
      "https://api.airvisual.com/v2/cities?state=North Carolina&country=USA&key=7e580e3c-e7a6-4186-8932-df1c197f3933\n",
      "{\"status\":\"success\",\"data\":[{\"city\":\"Albemarle\"},{\"city\":\"Angier\"},{\"city\":\"Asheville\"},{\"city\":\"Beaufort\"},{\"city\":\"Belville\"},{\"city\":\"Boone\"},{\"city\":\"Brevard\"},{\"city\":\"Bryson City\"},{\"city\":\"Buies Creek\"},{\"city\":\"Candor\"},{\"city\":\"Canton\"},{\"city\":\"Cary\"},{\"city\":\"Chapel Hill\"},{\"city\":\"Charlotte\"},{\"city\":\"Clyde\"},{\"city\":\"Concord\"},{\"city\":\"Cullowhee\"},{\"city\":\"Durham\"},{\"city\":\"Edenton\"},{\"city\":\"Elizabeth City\"},{\"city\":\"Fayetteville\"},{\"city\":\"Foscoe\"},{\"city\":\"Fuquay-Varina\"},{\"city\":\"Gorman\"},{\"city\":\"Greensboro\"},{\"city\":\"Greenville\"},{\"city\":\"Hendersonville\"},{\"city\":\"Hickory\"},{\"city\":\"Holly Springs\"},{\"city\":\"Hope Mills\"},{\"city\":\"Huntersville\"},{\"city\":\"Jamesville\"},{\"city\":\"Kannapolis\"},{\"city\":\"Kill Devil Hills\"},{\"city\":\"Lenoir\"},{\"city\":\"Lexington\"},{\"city\":\"Lowell\"},{\"city\":\"Marvin\"},{\"city\":\"Matthews\"},{\"city\":\"Morrisville\"},{\"city\":\"Mount Holly\"},{\"city\":\"Mount Olive\"},{\"city\":\"Myrtle Grove\"},{\"city\":\"Newland\"},{\"city\":\"Ogden\"},{\"city\":\"Otto\"},{\"city\":\"Pittsboro\"},{\"city\":\"Princeton\"},{\"city\":\"Raleigh\"},{\"city\":\"Roanoke Rapids\"},{\"city\":\"Robbinsville\"},{\"city\":\"Roxboro\"},{\"city\":\"Royal Pines\"},{\"city\":\"Rural Hall\"},{\"city\":\"Rutherfordton\"},{\"city\":\"Scotts Mill\"},{\"city\":\"Siler City\"},{\"city\":\"Smithfield\"},{\"city\":\"Southport\"},{\"city\":\"Spruce Pine\"},{\"city\":\"Statesville\"},{\"city\":\"Surf City\"},{\"city\":\"Taylorsville\"},{\"city\":\"Township of Taylorsville\"},{\"city\":\"Trenton\"},{\"city\":\"Wilmington\"},{\"city\":\"Winston-Salem\"}]}\n"
     ]
    }
   ],
   "source": [
    "cities_response = requests.get(query_url)\n",
    "print(query_url)\n",
    "print(cities_response.text)\n",
    "cities_json = cities_response.json()"
   ]
  },
  {
   "cell_type": "code",
   "execution_count": null,
   "metadata": {},
   "outputs": [],
   "source": []
  }
 ],
 "metadata": {
  "kernelspec": {
   "display_name": "Python 3",
   "language": "python",
   "name": "python3"
  },
  "language_info": {
   "codemirror_mode": {
    "name": "ipython",
    "version": 3
   },
   "file_extension": ".py",
   "mimetype": "text/x-python",
   "name": "python",
   "nbconvert_exporter": "python",
   "pygments_lexer": "ipython3",
   "version": "3.7.4"
  }
 },
 "nbformat": 4,
 "nbformat_minor": 2
}
