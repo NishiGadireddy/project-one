{
 "cells": [
  {
   "cell_type": "markdown",
   "metadata": {},
   "source": [
    "# AirQualityPy"
   ]
  },
  {
   "cell_type": "code",
   "execution_count": 6,
   "metadata": {},
   "outputs": [],
   "source": [
    "# Import dependencies\n",
    "import pandas as pd\n",
    "import matplotlib.pyplot as plt\n",
    "import requests\n",
    "from pprint import pprint\n",
    "import numpy as np\n",
    "import json\n",
    "from config1 import api_key"
   ]
  },
  {
   "cell_type": "code",
   "execution_count": 10,
   "metadata": {},
   "outputs": [
    {
     "name": "stdout",
     "output_type": "stream",
     "text": [
      "[{'data': {'city': 'Raleigh',\n",
      "           'country': 'USA',\n",
      "           'current': {'pollution': {'aqicn': 25,\n",
      "                                     'aqius': 63,\n",
      "                                     'maincn': 'p2',\n",
      "                                     'mainus': 'p2',\n",
      "                                     'ts': '2019-10-03T22:00:00.000Z'},\n",
      "                       'weather': {'hu': 55,\n",
      "                                   'ic': '01d',\n",
      "                                   'pr': 1013,\n",
      "                                   'tp': 33,\n",
      "                                   'ts': '2019-10-03T22:00:00.000Z',\n",
      "                                   'wd': 260,\n",
      "                                   'ws': 2.38}},\n",
      "           'location': {'coordinates': [-78.574203, 35.856098],\n",
      "                        'type': 'Point'},\n",
      "           'state': 'North Carolina'},\n",
      "  'status': 'success'},\n",
      " {'data': {'city': 'Asheville',\n",
      "           'country': 'USA',\n",
      "           'current': {'pollution': {'aqicn': 19,\n",
      "                                     'aqius': 53,\n",
      "                                     'maincn': 'p2',\n",
      "                                     'mainus': 'p2',\n",
      "                                     'ts': '2019-10-03T20:00:00.000Z'},\n",
      "                       'weather': {'hu': 45,\n",
      "                                   'ic': '01d',\n",
      "                                   'pr': 1021,\n",
      "                                   'tp': 28,\n",
      "                                   'ts': '2019-10-03T22:00:00.000Z',\n",
      "                                   'wd': 280,\n",
      "                                   'ws': 2.1}},\n",
      "           'location': {'coordinates': [-82.5833, 35.6075], 'type': 'Point'},\n",
      "           'state': 'North Carolina'},\n",
      "  'status': 'success'},\n",
      " {'data': {'city': 'Charlotte',\n",
      "           'country': 'USA',\n",
      "           'current': {'pollution': {'aqicn': 26,\n",
      "                                     'aqius': 63,\n",
      "                                     'maincn': 'p2',\n",
      "                                     'mainus': 'p2',\n",
      "                                     'ts': '2019-10-03T22:00:00.000Z'},\n",
      "                       'weather': {'hu': 28,\n",
      "                                   'ic': '03d',\n",
      "                                   'pr': 1015,\n",
      "                                   'tp': 34,\n",
      "                                   'ts': '2019-10-03T22:00:00.000Z',\n",
      "                                   'wd': 180,\n",
      "                                   'ws': 1.5}},\n",
      "           'location': {'coordinates': [-80.7831, 35.2411], 'type': 'Point'},\n",
      "           'state': 'North Carolina'},\n",
      "  'status': 'success'},\n",
      " {'data': {'city': 'Wilmington',\n",
      "           'country': 'USA',\n",
      "           'current': {'pollution': {'aqicn': 38,\n",
      "                                     'aqius': 82,\n",
      "                                     'maincn': 'p2',\n",
      "                                     'mainus': 'p2',\n",
      "                                     'ts': '2019-10-03T22:00:00.000Z'},\n",
      "                       'weather': {'hu': 74,\n",
      "                                   'ic': '02d',\n",
      "                                   'pr': 1014,\n",
      "                                   'tp': 29,\n",
      "                                   'ts': '2019-10-03T22:00:00.000Z',\n",
      "                                   'wd': 170,\n",
      "                                   'ws': 3.1}},\n",
      "           'location': {'coordinates': [-77.8617, 34.3561], 'type': 'Point'},\n",
      "           'state': 'North Carolina'},\n",
      "  'status': 'success'},\n",
      " {'data': {'city': 'New Bern',\n",
      "           'country': 'USA',\n",
      "           'current': {'pollution': {'aqicn': 12,\n",
      "                                     'aqius': 34,\n",
      "                                     'maincn': 'p2',\n",
      "                                     'mainus': 'p2',\n",
      "                                     'ts': '2019-10-03T21:00:00.000Z'},\n",
      "                       'weather': {'hu': 66,\n",
      "                                   'ic': '01d',\n",
      "                                   'pr': 1014,\n",
      "                                   'tp': 29,\n",
      "                                   'ts': '2019-10-03T22:00:00.000Z',\n",
      "                                   'wd': 170,\n",
      "                                   'ws': 4.6}},\n",
      "           'location': {'coordinates': [-77.04411, 35.10849], 'type': 'Point'},\n",
      "           'state': 'North Carolina'},\n",
      "  'status': 'success'},\n",
      " {'data': {'city': 'Rocky Mount',\n",
      "           'country': 'USA',\n",
      "           'current': {'pollution': {'aqicn': 26,\n",
      "                                     'aqius': 64,\n",
      "                                     'maincn': 'p2',\n",
      "                                     'mainus': 'p2',\n",
      "                                     'ts': '2019-10-03T21:00:00.000Z'},\n",
      "                       'weather': {'hu': 41,\n",
      "                                   'ic': '01d',\n",
      "                                   'pr': 1013,\n",
      "                                   'tp': 33,\n",
      "                                   'ts': '2019-10-03T22:00:00.000Z',\n",
      "                                   'wd': 200,\n",
      "                                   'ws': 3.1}},\n",
      "           'location': {'coordinates': [-77.79053, 35.93821], 'type': 'Point'},\n",
      "           'state': 'North Carolina'},\n",
      "  'status': 'success'},\n",
      " {'data': {'city': 'Fayetteville',\n",
      "           'country': 'USA',\n",
      "           'current': {'pollution': {'aqicn': 17,\n",
      "                                     'aqius': 50,\n",
      "                                     'maincn': 'p2',\n",
      "                                     'mainus': 'p2',\n",
      "                                     'ts': '2019-10-03T19:00:00.000Z'},\n",
      "                       'weather': {'hu': 32,\n",
      "                                   'ic': '02d',\n",
      "                                   'pr': 1014,\n",
      "                                   'tp': 34,\n",
      "                                   'ts': '2019-10-03T22:00:00.000Z',\n",
      "                                   'wd': 230,\n",
      "                                   'ws': 3.1}},\n",
      "           'location': {'coordinates': [-78.953102, 35.041401],\n",
      "                        'type': 'Point'},\n",
      "           'state': 'North Carolina'},\n",
      "  'status': 'success'}]\n"
     ]
    }
   ],
   "source": [
    "# Create the base url\n",
    "url = \"https://api.airvisual.com/v2/city?city=\"\n",
    "\n",
    "# Create the city list for desired data\n",
    "city = [\"Raleigh\", \"Asheville\", \"Charlotte\", \"Wilmington\", \"New Bern\", \"Rocky Mount\", \"Fayetteville\"] \n",
    "\n",
    "# Create an output list to hold request results\n",
    "output = []\n",
    "\n",
    "# Loop through the cities to perform requests\n",
    "for c in city:\n",
    "    query_url = url + c +\"&state=North Carolina&country=USA&\" + \"&key=\" + api_key  \n",
    "    response = requests.get(query_url).json()\n",
    "    \n",
    "    # Put results to the output list\n",
    "    output.append(response)\n",
    "\n",
    "# Display the data\n",
    "pprint(output)"
   ]
  },
  {
   "cell_type": "code",
   "execution_count": 106,
   "metadata": {},
   "outputs": [],
   "source": [
    "# Create lists to hold necessary data\n",
    "city_name = []\n",
    "state = []\n",
    "country_name = []\n",
    "air_quality = []\n",
    "main_pollutant = []\n",
    "humidity = []\n",
    "pressure = []\n",
    "temperature = []\n",
    "wind_speed = []\n",
    "date = []\n",
    "\n",
    "# Select the variables and put them in relative lists\n",
    "for i in range(len(output)):\n",
    "    city_name.append(output[i][\"data\"][\"city\"])\n",
    "    state.append(output[i][\"data\"][\"state\"])\n",
    "    country_name.append(output[i][\"data\"][\"country\"])\n",
    "    air_quality.append(output[i][\"data\"][\"current\"][\"pollution\"][\"aqius\"])\n",
    "    humidity.append(output[i][\"data\"][\"current\"][\"weather\"][\"hu\"])\n",
    "    pressure.append(output[i][\"data\"][\"current\"][\"weather\"][\"pr\"])\n",
    "    temperature.append(output[i][\"data\"][\"current\"][\"weather\"][\"tp\"])\n",
    "    wind_speed.append(output[i][\"data\"][\"current\"][\"weather\"][\"ws\"])\n",
    "    date.append(output[i][\"data\"][\"current\"][\"pollution\"][\"ts\"])\n",
    "    main_pollutant.append(output[i][\"data\"][\"current\"][\"pollution\"][\"mainus\"])"
   ]
  },
  {
   "cell_type": "code",
   "execution_count": 107,
   "metadata": {},
   "outputs": [
    {
     "data": {
      "text/html": [
       "<div>\n",
       "<style scoped>\n",
       "    .dataframe tbody tr th:only-of-type {\n",
       "        vertical-align: middle;\n",
       "    }\n",
       "\n",
       "    .dataframe tbody tr th {\n",
       "        vertical-align: top;\n",
       "    }\n",
       "\n",
       "    .dataframe thead th {\n",
       "        text-align: right;\n",
       "    }\n",
       "</style>\n",
       "<table border=\"1\" class=\"dataframe\">\n",
       "  <thead>\n",
       "    <tr style=\"text-align: right;\">\n",
       "      <th></th>\n",
       "      <th>City</th>\n",
       "      <th>State</th>\n",
       "      <th>Country</th>\n",
       "      <th>Air Quality</th>\n",
       "      <th>Main Pollutant</th>\n",
       "      <th>Humidity</th>\n",
       "      <th>Pressure</th>\n",
       "      <th>Temperature</th>\n",
       "      <th>Wind Speed</th>\n",
       "      <th>Date</th>\n",
       "    </tr>\n",
       "  </thead>\n",
       "  <tbody>\n",
       "    <tr>\n",
       "      <td>0</td>\n",
       "      <td>Raleigh</td>\n",
       "      <td>North Carolina</td>\n",
       "      <td>USA</td>\n",
       "      <td>63</td>\n",
       "      <td>p2</td>\n",
       "      <td>55</td>\n",
       "      <td>1013</td>\n",
       "      <td>33</td>\n",
       "      <td>2.38</td>\n",
       "      <td>2019-10-03T22:00:00.000Z</td>\n",
       "    </tr>\n",
       "    <tr>\n",
       "      <td>1</td>\n",
       "      <td>Asheville</td>\n",
       "      <td>North Carolina</td>\n",
       "      <td>USA</td>\n",
       "      <td>53</td>\n",
       "      <td>p2</td>\n",
       "      <td>45</td>\n",
       "      <td>1021</td>\n",
       "      <td>28</td>\n",
       "      <td>2.10</td>\n",
       "      <td>2019-10-03T20:00:00.000Z</td>\n",
       "    </tr>\n",
       "    <tr>\n",
       "      <td>2</td>\n",
       "      <td>Charlotte</td>\n",
       "      <td>North Carolina</td>\n",
       "      <td>USA</td>\n",
       "      <td>63</td>\n",
       "      <td>p2</td>\n",
       "      <td>28</td>\n",
       "      <td>1015</td>\n",
       "      <td>34</td>\n",
       "      <td>1.50</td>\n",
       "      <td>2019-10-03T22:00:00.000Z</td>\n",
       "    </tr>\n",
       "    <tr>\n",
       "      <td>3</td>\n",
       "      <td>Wilmington</td>\n",
       "      <td>North Carolina</td>\n",
       "      <td>USA</td>\n",
       "      <td>82</td>\n",
       "      <td>p2</td>\n",
       "      <td>74</td>\n",
       "      <td>1014</td>\n",
       "      <td>29</td>\n",
       "      <td>3.10</td>\n",
       "      <td>2019-10-03T22:00:00.000Z</td>\n",
       "    </tr>\n",
       "    <tr>\n",
       "      <td>4</td>\n",
       "      <td>New Bern</td>\n",
       "      <td>North Carolina</td>\n",
       "      <td>USA</td>\n",
       "      <td>34</td>\n",
       "      <td>p2</td>\n",
       "      <td>66</td>\n",
       "      <td>1014</td>\n",
       "      <td>29</td>\n",
       "      <td>4.60</td>\n",
       "      <td>2019-10-03T21:00:00.000Z</td>\n",
       "    </tr>\n",
       "    <tr>\n",
       "      <td>5</td>\n",
       "      <td>Rocky Mount</td>\n",
       "      <td>North Carolina</td>\n",
       "      <td>USA</td>\n",
       "      <td>64</td>\n",
       "      <td>p2</td>\n",
       "      <td>41</td>\n",
       "      <td>1013</td>\n",
       "      <td>33</td>\n",
       "      <td>3.10</td>\n",
       "      <td>2019-10-03T21:00:00.000Z</td>\n",
       "    </tr>\n",
       "    <tr>\n",
       "      <td>6</td>\n",
       "      <td>Fayetteville</td>\n",
       "      <td>North Carolina</td>\n",
       "      <td>USA</td>\n",
       "      <td>50</td>\n",
       "      <td>p2</td>\n",
       "      <td>32</td>\n",
       "      <td>1014</td>\n",
       "      <td>34</td>\n",
       "      <td>3.10</td>\n",
       "      <td>2019-10-03T19:00:00.000Z</td>\n",
       "    </tr>\n",
       "  </tbody>\n",
       "</table>\n",
       "</div>"
      ],
      "text/plain": [
       "           City           State Country  Air Quality Main Pollutant  Humidity  \\\n",
       "0       Raleigh  North Carolina     USA           63             p2        55   \n",
       "1     Asheville  North Carolina     USA           53             p2        45   \n",
       "2     Charlotte  North Carolina     USA           63             p2        28   \n",
       "3    Wilmington  North Carolina     USA           82             p2        74   \n",
       "4      New Bern  North Carolina     USA           34             p2        66   \n",
       "5   Rocky Mount  North Carolina     USA           64             p2        41   \n",
       "6  Fayetteville  North Carolina     USA           50             p2        32   \n",
       "\n",
       "   Pressure  Temperature  Wind Speed                      Date  \n",
       "0      1013           33        2.38  2019-10-03T22:00:00.000Z  \n",
       "1      1021           28        2.10  2019-10-03T20:00:00.000Z  \n",
       "2      1015           34        1.50  2019-10-03T22:00:00.000Z  \n",
       "3      1014           29        3.10  2019-10-03T22:00:00.000Z  \n",
       "4      1014           29        4.60  2019-10-03T21:00:00.000Z  \n",
       "5      1013           33        3.10  2019-10-03T21:00:00.000Z  \n",
       "6      1014           34        3.10  2019-10-03T19:00:00.000Z  "
      ]
     },
     "execution_count": 107,
     "metadata": {},
     "output_type": "execute_result"
    }
   ],
   "source": [
    "# Create the dictionary to hold data\n",
    "air_data = {\"City\": city_name,\n",
    "             \"State\": state,\n",
    "             \"Country\": country_name,\n",
    "             \"Air Quality\": air_quality,\n",
    "             \"Main Pollutant\": main_pollutant,\n",
    "             \"Humidity\": humidity,\n",
    "             \"Pressure\": pressure,\n",
    "             \"Temperature\": temperature,\n",
    "             \"Wind Speed\": wind_speed,\n",
    "             \"Date\": date\n",
    "           }\n",
    "# Convert dictionary to a dataframe\n",
    "air_df = pd.DataFrame(air_data)\n",
    "air_df"
   ]
  },
  {
   "cell_type": "markdown",
   "metadata": {},
   "source": [
    "### Air Quality Index Status for NC cities"
   ]
  },
  {
   "cell_type": "code",
   "execution_count": 108,
   "metadata": {},
   "outputs": [
    {
     "data": {
      "image/png": "[encoded data removed]",
      "text/plain": [
       "<Figure size 432x288 with 1 Axes>"
      ]
     },
     "metadata": {
      "needs_background": "light"
     },
     "output_type": "display_data"
    }
   ],
   "source": [
    "# Create a line chart to show air quality index change for each city\n",
    "# Change the color depending on the air quality index\n",
    "colors = [\"green\" if x <= 50 else \"orange\" if x <= 100 else \"red\" for x in air_df[\"Air Quality\"]]\n",
    "plt.bar(air_df[\"City\"], air_df[\"Air Quality\"], align=\"center\", color = colors)\n",
    "\n",
    "# Add labels \n",
    "plt.xticks(air_df[\"City\"], rotation = 45)\n",
    "plt.title(\"Air Quality Status\")\n",
    "plt.ylabel(\"AQI\")\n",
    "plt.xlabel(\"Cities\")\n",
    "\n",
    "# Save the plot\n",
    "plt.tight_layout()\n",
    "plt.savefig(\"Output/air_quality.png\")\n",
    "plt.show()"
   ]
  },
  {
   "cell_type": "markdown",
   "metadata": {},
   "source": [
    "### Air Quality, Humidity Relationship"
   ]
  },
  {
   "cell_type": "code",
   "execution_count": 109,
   "metadata": {},
   "outputs": [
    {
     "data": {
      "image/png": "[encoded data removed]",
      "text/plain": [
       "<Figure size 432x288 with 1 Axes>"
      ]
     },
     "metadata": {
      "needs_background": "light"
     },
     "output_type": "display_data"
    }
   ],
   "source": [
    "# Create the plot\n",
    "plt.scatter(air_df[\"Humidity\"], air_df[\"Air Quality\"], marker = \"o\", color = \"blue\", s=air_df[\"Humidity\"])\n",
    "\n",
    "# Add Labels\n",
    "plt.title(\"Air Quality vs Humidty\")\n",
    "plt.xlabel(\"Humidity\")\n",
    "plt.ylabel(\"AQI\")\n",
    "tick_locations = air_df[\"Humidity\"]\n",
    "plt.xticks(tick_locations, air_df[\"City\"], rotation=80)\n",
    "plt.grid()\n",
    "\n",
    "# Save the plot\n",
    "plt.tight_layout()\n",
    "plt.savefig(\"Output/aqi_humidity.png\")\n",
    "plt.show()"
   ]
  },
  {
   "cell_type": "markdown",
   "metadata": {},
   "source": [
    "### Air Quality, Temperature Relationship"
   ]
  },
  {
   "cell_type": "code",
   "execution_count": 105,
   "metadata": {},
   "outputs": [
    {
     "data": {
      "image/png": "[encoded data removed]",
      "text/plain": [
       "<Figure size 432x288 with 1 Axes>"
      ]
     },
     "metadata": {
      "needs_background": "light"
     },
     "output_type": "display_data"
    }
   ],
   "source": [
    "# Create plots for temprature and air quality \n",
    "plt.scatter(air_df[\"Temperature\"], air_df[\"Air Quality\"], marker=\"o\", color = \"red\")\n",
    "plt.xlabel(\"Temperature (C)\")\n",
    "plt.ylabel(\"AQI\")\n",
    "plt.title(\"Air Quality vs Temperature\")\n",
    "tick_locations = air_df[\"Temperature\"]\n",
    "plt.grid()\n",
    "plt.tight_layout()\n",
    "plt.savefig(\"Output/aqi_temp.png\")"
   ]
  },
  {
   "cell_type": "markdown",
   "metadata": {},
   "source": [
    "### Air Quality,  Air Pressure Relationship\n"
   ]
  },
  {
   "cell_type": "code",
   "execution_count": null,
   "metadata": {},
   "outputs": [],
   "source": []
  }
 ],
 "metadata": {
  "kernelspec": {
   "display_name": "Python [conda env:PythonData]",
   "language": "python",
   "name": "conda-env-PythonData-py"
  },
  "language_info": {
   "codemirror_mode": {
    "name": "ipython",
    "version": 3
   },
   "file_extension": ".py",
   "mimetype": "text/x-python",
   "name": "python",
   "nbconvert_exporter": "python",
   "pygments_lexer": "ipython3",
   "version": "3.7.4"
  }
 },
 "nbformat": 4,
 "nbformat_minor": 2
}
